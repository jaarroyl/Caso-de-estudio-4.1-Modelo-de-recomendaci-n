{
 "cells": [
  {
   "cell_type": "markdown",
   "metadata": {},
   "source": [
    "### Case Study 4.1 - Movies"
   ]
  },
  {
   "cell_type": "markdown",
   "metadata": {},
   "source": [
    "#### Identification Information"
   ]
  },
  {
   "cell_type": "markdown",
   "metadata": {},
   "source": [
    "* Name: Jaime Arroyo Leon\n",
    "* User: Jarroyo\n",
    "* Email: jaime.arroyo@hdi.cl"
   ]
  },
  {
   "cell_type": "markdown",
   "metadata": {},
   "source": [
    "#### Import"
   ]
  },
  {
   "cell_type": "code",
   "execution_count": 1,
   "metadata": {},
   "outputs": [],
   "source": [
    "import pandas as pd\n",
    "import numpy as np\n",
    "import matplotlib.pyplot as plt\n",
    "from surprise import Dataset, SVD, NormalPredictor, BaselineOnly, KNNBasic, NMF\n",
    "from surprise import accuracy\n",
    "from surprise.model_selection import train_test_split\n",
    "from surprise.model_selection import cross_validate, KFold, GridSearchCV"
   ]
  },
  {
   "cell_type": "markdown",
   "metadata": {},
   "source": [
    "#### Data"
   ]
  },
  {
   "cell_type": "code",
   "execution_count": 2,
   "metadata": {},
   "outputs": [],
   "source": [
    "# Carga de dataset movielens\n",
    "data = Dataset.load_builtin('ml-100k')"
   ]
  },
  {
   "cell_type": "markdown",
   "metadata": {},
   "source": [
    "We also want to get a sense of what the data looks like. Please create a histogram of all the ratings we have in the dataset."
   ]
  },
  {
   "cell_type": "code",
   "execution_count": 3,
   "metadata": {},
   "outputs": [
    {
     "data": {
      "text/html": [
       "<div>\n",
       "<style scoped>\n",
       "    .dataframe tbody tr th:only-of-type {\n",
       "        vertical-align: middle;\n",
       "    }\n",
       "\n",
       "    .dataframe tbody tr th {\n",
       "        vertical-align: top;\n",
       "    }\n",
       "\n",
       "    .dataframe thead th {\n",
       "        text-align: right;\n",
       "    }\n",
       "</style>\n",
       "<table border=\"1\" class=\"dataframe\">\n",
       "  <thead>\n",
       "    <tr style=\"text-align: right;\">\n",
       "      <th></th>\n",
       "      <th>user</th>\n",
       "      <th>item</th>\n",
       "      <th>rating</th>\n",
       "      <th>timestamp</th>\n",
       "    </tr>\n",
       "  </thead>\n",
       "  <tbody>\n",
       "    <tr>\n",
       "      <th>0</th>\n",
       "      <td>196</td>\n",
       "      <td>242</td>\n",
       "      <td>3</td>\n",
       "      <td>881250949</td>\n",
       "    </tr>\n",
       "    <tr>\n",
       "      <th>1</th>\n",
       "      <td>186</td>\n",
       "      <td>302</td>\n",
       "      <td>3</td>\n",
       "      <td>891717742</td>\n",
       "    </tr>\n",
       "    <tr>\n",
       "      <th>2</th>\n",
       "      <td>22</td>\n",
       "      <td>377</td>\n",
       "      <td>1</td>\n",
       "      <td>878887116</td>\n",
       "    </tr>\n",
       "    <tr>\n",
       "      <th>3</th>\n",
       "      <td>244</td>\n",
       "      <td>51</td>\n",
       "      <td>2</td>\n",
       "      <td>880606923</td>\n",
       "    </tr>\n",
       "    <tr>\n",
       "      <th>4</th>\n",
       "      <td>166</td>\n",
       "      <td>346</td>\n",
       "      <td>1</td>\n",
       "      <td>886397596</td>\n",
       "    </tr>\n",
       "  </tbody>\n",
       "</table>\n",
       "</div>"
      ],
      "text/plain": [
       "   user  item  rating  timestamp\n",
       "0   196   242       3  881250949\n",
       "1   186   302       3  891717742\n",
       "2    22   377       1  878887116\n",
       "3   244    51       2  880606923\n",
       "4   166   346       1  886397596"
      ]
     },
     "execution_count": 3,
     "metadata": {},
     "output_type": "execute_result"
    }
   ],
   "source": [
    "#Usando pandas para visualizar la data\n",
    "movies = pd.read_csv('u.data.txt',sep='\\t', header=None)\n",
    "movies.columns = ['user', 'item', 'rating', 'timestamp']\n",
    "movies.head()"
   ]
  },
  {
   "cell_type": "code",
   "execution_count": 4,
   "metadata": {},
   "outputs": [
    {
     "data": {
      "text/html": [
       "<div>\n",
       "<style scoped>\n",
       "    .dataframe tbody tr th:only-of-type {\n",
       "        vertical-align: middle;\n",
       "    }\n",
       "\n",
       "    .dataframe tbody tr th {\n",
       "        vertical-align: top;\n",
       "    }\n",
       "\n",
       "    .dataframe thead th {\n",
       "        text-align: right;\n",
       "    }\n",
       "</style>\n",
       "<table border=\"1\" class=\"dataframe\">\n",
       "  <thead>\n",
       "    <tr style=\"text-align: right;\">\n",
       "      <th></th>\n",
       "      <th>user</th>\n",
       "      <th>item</th>\n",
       "      <th>rating</th>\n",
       "      <th>timestamp</th>\n",
       "    </tr>\n",
       "  </thead>\n",
       "  <tbody>\n",
       "    <tr>\n",
       "      <th>count</th>\n",
       "      <td>100000.00000</td>\n",
       "      <td>100000.000000</td>\n",
       "      <td>100000.000000</td>\n",
       "      <td>1.000000e+05</td>\n",
       "    </tr>\n",
       "    <tr>\n",
       "      <th>mean</th>\n",
       "      <td>462.48475</td>\n",
       "      <td>425.530130</td>\n",
       "      <td>3.529860</td>\n",
       "      <td>8.835289e+08</td>\n",
       "    </tr>\n",
       "    <tr>\n",
       "      <th>std</th>\n",
       "      <td>266.61442</td>\n",
       "      <td>330.798356</td>\n",
       "      <td>1.125674</td>\n",
       "      <td>5.343856e+06</td>\n",
       "    </tr>\n",
       "    <tr>\n",
       "      <th>min</th>\n",
       "      <td>1.00000</td>\n",
       "      <td>1.000000</td>\n",
       "      <td>1.000000</td>\n",
       "      <td>8.747247e+08</td>\n",
       "    </tr>\n",
       "    <tr>\n",
       "      <th>25%</th>\n",
       "      <td>254.00000</td>\n",
       "      <td>175.000000</td>\n",
       "      <td>3.000000</td>\n",
       "      <td>8.794487e+08</td>\n",
       "    </tr>\n",
       "    <tr>\n",
       "      <th>50%</th>\n",
       "      <td>447.00000</td>\n",
       "      <td>322.000000</td>\n",
       "      <td>4.000000</td>\n",
       "      <td>8.828269e+08</td>\n",
       "    </tr>\n",
       "    <tr>\n",
       "      <th>75%</th>\n",
       "      <td>682.00000</td>\n",
       "      <td>631.000000</td>\n",
       "      <td>4.000000</td>\n",
       "      <td>8.882600e+08</td>\n",
       "    </tr>\n",
       "    <tr>\n",
       "      <th>max</th>\n",
       "      <td>943.00000</td>\n",
       "      <td>1682.000000</td>\n",
       "      <td>5.000000</td>\n",
       "      <td>8.932866e+08</td>\n",
       "    </tr>\n",
       "  </tbody>\n",
       "</table>\n",
       "</div>"
      ],
      "text/plain": [
       "               user           item         rating     timestamp\n",
       "count  100000.00000  100000.000000  100000.000000  1.000000e+05\n",
       "mean      462.48475     425.530130       3.529860  8.835289e+08\n",
       "std       266.61442     330.798356       1.125674  5.343856e+06\n",
       "min         1.00000       1.000000       1.000000  8.747247e+08\n",
       "25%       254.00000     175.000000       3.000000  8.794487e+08\n",
       "50%       447.00000     322.000000       4.000000  8.828269e+08\n",
       "75%       682.00000     631.000000       4.000000  8.882600e+08\n",
       "max       943.00000    1682.000000       5.000000  8.932866e+08"
      ]
     },
     "execution_count": 4,
     "metadata": {},
     "output_type": "execute_result"
    }
   ],
   "source": [
    "movies.describe()"
   ]
  },
  {
   "cell_type": "code",
   "execution_count": 5,
   "metadata": {},
   "outputs": [
    {
     "data": {
      "image/png": "[encoded data removed]",
      "text/plain": [
       "<Figure size 432x288 with 1 Axes>"
      ]
     },
     "metadata": {
      "needs_background": "light"
     },
     "output_type": "display_data"
    }
   ],
   "source": [
    "%matplotlib inline\n",
    "plt.boxplot(movies['rating'])\n",
    "plt.title('Fig 1: Detectando Outliers en ratings')\n",
    "plt.show()"
   ]
  },
  {
   "cell_type": "code",
   "execution_count": 6,
   "metadata": {},
   "outputs": [
    {
     "data": {
      "image/png": "[encoded data removed]",
      "text/plain": [
       "<Figure size 432x288 with 1 Axes>"
      ]
     },
     "metadata": {
      "needs_background": "light"
     },
     "output_type": "display_data"
    }
   ],
   "source": [
    "#Generacion del histograma para visualizar la cantidad de ratings\n",
    "plt.hist(movies['rating'])\n",
    "plt.title('Fig 2: Histograma de ratings')\n",
    "plt.show()"
   ]
  },
  {
   "cell_type": "code",
   "execution_count": 7,
   "metadata": {},
   "outputs": [
    {
     "data": {
      "image/png": "[encoded data removed]",
      "text/plain": [
       "<Figure size 432x288 with 1 Axes>"
      ]
     },
     "metadata": {
      "needs_background": "light"
     },
     "output_type": "display_data"
    }
   ],
   "source": [
    "#Distribucion de las valoraciones por usuario\n",
    "plt.hist(movies['user'])\n",
    "plt.title('Fig 3: Histograma por usuarios')\n",
    "plt.show()"
   ]
  },
  {
   "cell_type": "code",
   "execution_count": 8,
   "metadata": {},
   "outputs": [
    {
     "data": {
      "image/png": "[encoded data removed]",
      "text/plain": [
       "<Figure size 432x288 with 1 Axes>"
      ]
     },
     "metadata": {
      "needs_background": "light"
     },
     "output_type": "display_data"
    }
   ],
   "source": [
    "# Cumulative Histogram\n",
    "n_bins = 100\n",
    "plt.hist(movies['user'], n_bins, density=True, histtype='step',\n",
    "                           cumulative=True)\n",
    "plt.title('Fig 4: Histograma acumulativo por usuarios')\n",
    "plt.show()"
   ]
  },
  {
   "cell_type": "code",
   "execution_count": 9,
   "metadata": {},
   "outputs": [
    {
     "data": {
      "image/png": "[encoded data removed]",
      "text/plain": [
       "<Figure size 432x288 with 1 Axes>"
      ]
     },
     "metadata": {
      "needs_background": "light"
     },
     "output_type": "display_data"
    }
   ],
   "source": [
    "#Distribucion de las valoraciones por peliculas\n",
    "plt.hist(movies['item'])\n",
    "plt.title('Fig 5: Histograma por items')\n",
    "plt.show()"
   ]
  },
  {
   "cell_type": "code",
   "execution_count": 10,
   "metadata": {},
   "outputs": [
    {
     "data": {
      "image/png": "[encoded data removed]",
      "text/plain": [
       "<Figure size 432x288 with 1 Axes>"
      ]
     },
     "metadata": {
      "needs_background": "light"
     },
     "output_type": "display_data"
    }
   ],
   "source": [
    "# Cumulative Histogram\n",
    "n_bins = 50\n",
    "plt.hist(movies['item'], n_bins, density=True, histtype='step',\n",
    "                           cumulative=True)\n",
    "plt.title('Fig 6: Histograma acumulativo por items')\n",
    "plt.show()"
   ]
  },
  {
   "cell_type": "code",
   "execution_count": 11,
   "metadata": {},
   "outputs": [
    {
     "name": "stdout",
     "output_type": "stream",
     "text": [
      "total ratings: 100000\n",
      "Agrupado por valoracion\n"
     ]
    },
    {
     "data": {
      "text/plain": [
       "4    34.174\n",
       "3    27.145\n",
       "5    21.201\n",
       "2    11.370\n",
       "1     6.110\n",
       "Name: rating, dtype: float64"
      ]
     },
     "execution_count": 11,
     "metadata": {},
     "output_type": "execute_result"
    }
   ],
   "source": [
    "#Frecuencia por cada ratings\n",
    "print('total ratings: {}'.format(len(movies['rating'])))\n",
    "print('Agrupado por valoracion')\n",
    "movies['rating'].value_counts(normalize=True)*100"
   ]
  },
  {
   "cell_type": "markdown",
   "metadata": {},
   "source": [
    "<h4 style=\"color:red;\">QUESTION 1: DATA ANALYSIS</h1>"
   ]
  },
  {
   "cell_type": "markdown",
   "metadata": {},
   "source": [
    "**Describe the dataset. How many ratings are in the dataset? How would you describe the distribution of ratings? Is there anything else we should observe? Make sure the histogram is visible in the notebook.**"
   ]
  },
  {
   "cell_type": "markdown",
   "metadata": {},
   "source": [
    "* Podemos observar que el 82.52% de las valoraciones se encuentran entre 3 y 5 dejando un 17,48% para valoraciones 1 y 2. Si consideramos esta distribución para realizar el entrenamiento del modelo, se cuenta con una distribucion cercana al 80% a valoraciones positivas y un 20% a valoraciones negativas. Contamos con 100.000 valoraciones dentro del dataset cuyo promedio se encuentra en 3.53(4). Luego de aplicar boxplot para observar graficamente como se distribuyen los cuantiles de la data, es posible apreciar que la valoracion = 1, se podria considerar poco comun dentro de este dataset puesto que solo comprende el menos del 6% de los datos."
   ]
  },
  {
   "cell_type": "markdown",
   "metadata": {},
   "source": [
    "#### Model 1: Random"
   ]
  },
  {
   "cell_type": "markdown",
   "metadata": {},
   "source": [
    "* Modelo que genera una prediccion aleatoria en funcion de la distribucion de la data de entrenamiento asumiendo que se distribuye N(μ,σ^2) el cual utiliza la estimacion de maxima verosimilitud para encontrar la media y la std"
   ]
  },
  {
   "cell_type": "code",
   "execution_count": 12,
   "metadata": {},
   "outputs": [],
   "source": [
    "#Dividiendo el dataset en 80% entrenamiento, 20% testing\n",
    "train_set, test_set = train_test_split(data,test_size=.2, random_state=42, shuffle=True)"
   ]
  },
  {
   "cell_type": "code",
   "execution_count": 13,
   "metadata": {},
   "outputs": [
    {
     "data": {
      "text/plain": [
       "<surprise.prediction_algorithms.random_pred.NormalPredictor at 0x1a313e26748>"
      ]
     },
     "execution_count": 13,
     "metadata": {},
     "output_type": "execute_result"
    }
   ],
   "source": [
    "# Create model using NormalPredictor() class\n",
    "rdm_predict = NormalPredictor()\n",
    "rdm_predict.fit(train_set)"
   ]
  },
  {
   "cell_type": "code",
   "execution_count": 14,
   "metadata": {},
   "outputs": [
    {
     "name": "stdout",
     "output_type": "stream",
     "text": [
      "RMSE: 1.5164\n"
     ]
    },
    {
     "data": {
      "text/plain": [
       "1.5163784907443556"
      ]
     },
     "execution_count": 14,
     "metadata": {},
     "output_type": "execute_result"
    }
   ],
   "source": [
    "test_pred = rdm_predict.test(test_set)\n",
    "accuracy.rmse(test_pred)"
   ]
  },
  {
   "cell_type": "code",
   "execution_count": 15,
   "metadata": {},
   "outputs": [
    {
     "name": "stdout",
     "output_type": "stream",
     "text": [
      "Evaluating RMSE, MAE of algorithm NormalPredictor on 5 split(s).\n",
      "\n",
      "                  Fold 1  Fold 2  Fold 3  Fold 4  Fold 5  Mean    Std     \n",
      "RMSE (testset)    1.5307  1.5139  1.5153  1.5261  1.5225  1.5217  0.0064  \n",
      "MAE (testset)     1.2327  1.2177  1.2154  1.2240  1.2235  1.2226  0.0060  \n",
      "Fit time          0.15    0.16    0.17    0.12    0.13    0.15    0.02    \n",
      "Test time         0.25    0.14    0.16    0.11    0.17    0.17    0.05    \n"
     ]
    }
   ],
   "source": [
    "# Train on data using cross-validation with k=5 folds, measuring the RMSE\n",
    "cv = cross_validate(rdm_predict, data, measures=['RMSE','MAE'], cv=5, verbose=True)"
   ]
  },
  {
   "cell_type": "markdown",
   "metadata": {},
   "source": [
    "#### Model 2: User-Based Collaborative Filtering"
   ]
  },
  {
   "cell_type": "markdown",
   "metadata": {},
   "source": [
    "* Realizar GridSearchCV para encontrar los mejores parametros del algoritmo"
   ]
  },
  {
   "cell_type": "code",
   "execution_count": 16,
   "metadata": {},
   "outputs": [],
   "source": [
    "param_grid = {'k': [23,24,25],\n",
    "              'sim_options': {'user_based': [True]} #User_based\n",
    "              }"
   ]
  },
  {
   "cell_type": "code",
   "execution_count": 17,
   "metadata": {},
   "outputs": [],
   "source": [
    "gscv = GridSearchCV(KNNBasic, param_grid, measures=['rmse','mae'], cv=5, n_jobs=-1)"
   ]
  },
  {
   "cell_type": "code",
   "execution_count": 18,
   "metadata": {},
   "outputs": [],
   "source": [
    "gscv.fit(data)"
   ]
  },
  {
   "cell_type": "code",
   "execution_count": 19,
   "metadata": {},
   "outputs": [
    {
     "name": "stdout",
     "output_type": "stream",
     "text": [
      "RMSE Score: 0.975616702335109\n",
      "Parametros: {'k': 25, 'sim_options': {'user_based': True}}\n"
     ]
    }
   ],
   "source": [
    "# Mejor RMSE\n",
    "print('RMSE Score: {}'.format(gscv.best_score['rmse']))\n",
    "# Parametros que minimizan RMSE\n",
    "print('Parametros: {}'.format(gscv.best_params['rmse']))"
   ]
  },
  {
   "cell_type": "code",
   "execution_count": 20,
   "metadata": {},
   "outputs": [],
   "source": [
    "# Create model using KNNBasic() class\n",
    "knn = KNNBasic(k = 24, sim_options={'user_based': [True]}) #User_based permite configurar si se usara user-user o item-item"
   ]
  },
  {
   "cell_type": "code",
   "execution_count": 21,
   "metadata": {},
   "outputs": [
    {
     "name": "stdout",
     "output_type": "stream",
     "text": [
      "Computing the msd similarity matrix...\n",
      "Done computing similarity matrix.\n",
      "Computing the msd similarity matrix...\n",
      "Done computing similarity matrix.\n",
      "Computing the msd similarity matrix...\n",
      "Done computing similarity matrix.\n",
      "Computing the msd similarity matrix...\n",
      "Done computing similarity matrix.\n",
      "Computing the msd similarity matrix...\n",
      "Done computing similarity matrix.\n",
      "Evaluating RMSE, MAE of algorithm KNNBasic on 5 split(s).\n",
      "\n",
      "                  Fold 1  Fold 2  Fold 3  Fold 4  Fold 5  Mean    Std     \n",
      "RMSE (testset)    0.9749  0.9776  0.9804  0.9728  0.9705  0.9753  0.0035  \n",
      "MAE (testset)     0.7683  0.7697  0.7749  0.7661  0.7670  0.7692  0.0031  \n",
      "Fit time          0.50    0.61    0.53    0.58    0.59    0.56    0.04    \n",
      "Test time         4.31    3.94    3.15    3.24    4.06    3.74    0.46    \n"
     ]
    }
   ],
   "source": [
    "# Train using same cross validation code as above\n",
    "cv = cross_validate(knn, data, measures=['RMSE','MAE'], cv=5, verbose=True)"
   ]
  },
  {
   "cell_type": "markdown",
   "metadata": {},
   "source": [
    "#### Model 3: Item-Based Collaborative Filtering"
   ]
  },
  {
   "cell_type": "code",
   "execution_count": 22,
   "metadata": {},
   "outputs": [],
   "source": [
    "param_grid = {'k': [35,40,45],\n",
    "              'sim_options': {'user_based': [False]} #Item-Based\n",
    "              }"
   ]
  },
  {
   "cell_type": "code",
   "execution_count": 23,
   "metadata": {},
   "outputs": [],
   "source": [
    "gscv = GridSearchCV(KNNBasic, param_grid, measures=['rmse','mae'], cv=5, n_jobs=-1)"
   ]
  },
  {
   "cell_type": "code",
   "execution_count": 24,
   "metadata": {},
   "outputs": [],
   "source": [
    "gscv.fit(data)"
   ]
  },
  {
   "cell_type": "code",
   "execution_count": 25,
   "metadata": {},
   "outputs": [
    {
     "name": "stdout",
     "output_type": "stream",
     "text": [
      "RMSE Score: 0.9742756898379292\n",
      "Parametros: {'k': 40, 'sim_options': {'user_based': False}}\n"
     ]
    }
   ],
   "source": [
    "# Mejor RMSE\n",
    "print('RMSE Score: {}'.format(gscv.best_score['rmse']))\n",
    "# Parametros que minimizan RMSE\n",
    "print('Parametros: {}'.format(gscv.best_params['rmse']))"
   ]
  },
  {
   "cell_type": "code",
   "execution_count": 26,
   "metadata": {},
   "outputs": [],
   "source": [
    "# Create model using KNNBasic() class\n",
    "knn = KNNBasic(k = 40, sim_options={'user_based': [False]})"
   ]
  },
  {
   "cell_type": "code",
   "execution_count": 27,
   "metadata": {},
   "outputs": [
    {
     "name": "stdout",
     "output_type": "stream",
     "text": [
      "Computing the msd similarity matrix...\n",
      "Done computing similarity matrix.\n",
      "Computing the msd similarity matrix...\n",
      "Done computing similarity matrix.\n",
      "Computing the msd similarity matrix...\n",
      "Done computing similarity matrix.\n",
      "Computing the msd similarity matrix...\n",
      "Done computing similarity matrix.\n",
      "Computing the msd similarity matrix...\n",
      "Done computing similarity matrix.\n",
      "Evaluating RMSE, MAE of algorithm KNNBasic on 5 split(s).\n",
      "\n",
      "                  Fold 1  Fold 2  Fold 3  Fold 4  Fold 5  Mean    Std     \n",
      "RMSE (testset)    0.9853  0.9795  0.9775  0.9806  0.9754  0.9797  0.0033  \n",
      "MAE (testset)     0.7794  0.7738  0.7739  0.7719  0.7698  0.7738  0.0032  \n",
      "Fit time          0.50    0.45    0.48    0.42    0.44    0.46    0.03    \n",
      "Test time         3.03    2.92    2.83    2.84    2.90    2.90    0.07    \n"
     ]
    }
   ],
   "source": [
    "# Train using same cross validation code as above\n",
    "cv = cross_validate(knn, data, measures=['RMSE','MAE'], cv=5, verbose=True)"
   ]
  },
  {
   "cell_type": "markdown",
   "metadata": {},
   "source": [
    "<h4 style=\"color:red;\">QUESTION 2: COLLABORATIVE FILTERING MODELS</h1>"
   ]
  },
  {
   "cell_type": "markdown",
   "metadata": {},
   "source": [
    "**Compare the results from the user-user and item-item models. How do they compare to each other? How do they compare to our original \"random\" model? Can you provide any intuition as to why the results came out the way they did?**"
   ]
  },
  {
   "cell_type": "markdown",
   "metadata": {},
   "source": [
    "* Random model rmse (test_data): 1.52\n",
    "* Collaborative Filtering (User_based) rmse (test_data): 0.9753\n",
    "* Collaborative Filtering (Item_based) rmse (test_data): 0.9797\n",
    "\n",
    "* Si bien ambos modelos (Filtering Collaborative) presentan RMSE similares, el modelo user_based obtuvo un mejor resultado sobre las predicciones en el testing dataset. Ademas de utilizar menor cantidad de vecinos (k) para predecir, lo cual ayuda en el tiempo de procesamiento, la distribucion acumulativa que presenta la valoracion por usuarios segun la Fig. 4, permite apreciar que a diferencia de las peliculas (distribucion en Fig. 5 y Fig. 6), hay una muestra mas homogenea de valoraciones por cada usuario. En la Fig. 5 se percibe como solo algunas peliculas reciben grandes cantidades de valoraciones concentrando la informacion solo en algunos puntos de datos y no en todos los usuarios como lo permite el user-based.\n",
    "* A diferencia del Random model el cual entrega predicciones de acuerdo a la distribucion de la base de entrenamiento, donde vemos que hay un 80% de valoraciones sobre 3, es muy probable que falle en ratings bajos aumentando el RMSE como se muestra en los resultados, el algoritmo de KNN en ambos metodos, utiliza los k vecinos mas cercanos al punto de dato a predecir, utilizando la distancia coseno promedio para predecir la valoracion que recibira una pelicula dadas las valoraciones por realizadas por los usuarios o viceversa el cual permite tener una mejora del 56% en las predicciones."
   ]
  },
  {
   "cell_type": "markdown",
   "metadata": {},
   "source": [
    "#### Model 4: Matrix Factorization"
   ]
  },
  {
   "cell_type": "code",
   "execution_count": 28,
   "metadata": {},
   "outputs": [],
   "source": [
    "param_grid = {'n_factors': [120,130,140],\n",
    "              'n_epochs': [25,30],\n",
    "              'lr_all': [0.007, 0.01, 0.015],\n",
    "              'reg_all': [0.07, 0.1, 0.15] \n",
    "              }"
   ]
  },
  {
   "cell_type": "code",
   "execution_count": 29,
   "metadata": {},
   "outputs": [],
   "source": [
    "gscv = GridSearchCV(SVD, param_grid, measures=['rmse','mae'], cv=5, n_jobs=-1)"
   ]
  },
  {
   "cell_type": "code",
   "execution_count": 30,
   "metadata": {},
   "outputs": [],
   "source": [
    "gscv.fit(data)"
   ]
  },
  {
   "cell_type": "code",
   "execution_count": 31,
   "metadata": {},
   "outputs": [
    {
     "name": "stdout",
     "output_type": "stream",
     "text": [
      "RMSE Score: 0.9110369838163468\n",
      "Parametros: {'n_factors': 120, 'n_epochs': 30, 'lr_all': 0.015, 'reg_all': 0.1}\n"
     ]
    }
   ],
   "source": [
    "# Mejor RMSE\n",
    "print('RMSE Score: {}'.format(gscv.best_score['rmse']))\n",
    "# Parametros que minimizan RMSE\n",
    "print('Parametros: {}'.format(gscv.best_params['rmse']))"
   ]
  },
  {
   "cell_type": "code",
   "execution_count": 32,
   "metadata": {},
   "outputs": [],
   "source": [
    "# Create model using SVD() class\n",
    "svd = SVD(n_factors = 130, n_epochs = 30, lr_all = 0.015, reg_all = 0.1)"
   ]
  },
  {
   "cell_type": "code",
   "execution_count": 33,
   "metadata": {},
   "outputs": [
    {
     "name": "stdout",
     "output_type": "stream",
     "text": [
      "Evaluating RMSE, MAE of algorithm SVD on 5 split(s).\n",
      "\n",
      "                  Fold 1  Fold 2  Fold 3  Fold 4  Fold 5  Mean    Std     \n",
      "RMSE (testset)    0.9010  0.9139  0.9111  0.9125  0.9103  0.9097  0.0045  \n",
      "MAE (testset)     0.7134  0.7229  0.7198  0.7211  0.7207  0.7196  0.0033  \n",
      "Fit time          7.34    7.53    7.66    7.44    7.49    7.49    0.10    \n",
      "Test time         0.11    0.15    0.11    0.16    0.12    0.13    0.02    \n"
     ]
    }
   ],
   "source": [
    "# Train using same cross validation code as above\n",
    "cv = cross_validate(svd, data, measures=['RMSE','MAE'], cv=5, verbose=True)"
   ]
  },
  {
   "cell_type": "markdown",
   "metadata": {},
   "source": [
    "<h4 style=\"color:red;\">QUESTION 3: MATRIX FACTORIZATION MODEL</h1>"
   ]
  },
  {
   "cell_type": "markdown",
   "metadata": {},
   "source": [
    "**The matrix factorization model is different from the collaborative filtering models. Briefly describe this difference. Also, compare the RMSE again. Does it improve? Can you offer any reasoning as to why that might be?**"
   ]
  },
  {
   "cell_type": "markdown",
   "metadata": {},
   "source": [
    "* De acuerdo al texto Probabilistic Matrix Factorization de Ruslan Salakhutdinov and Andriy Mnih - Department of Computer Science, University of Toronto, el modelo SVD o Matrix Factorization Model puede generalizar considerablemente mejor para usuarios con muy pocas calificaciones y en datasets grandes con distribuciones como las que presenta Movielens. Mediante el algoritmo cuyo objetivo es minimizar la suma de las distancias al cuadrado de la matriz R (N usuarios x M peliculas) utilizando SGD obteniendo en \"one-shot\" la prediccion para la formula R = M ∑ U.t rellenando las valoraciones para cada pelicula y usuario, permite obtener hasta ahora el mejor resultado en RMSE con 0.9096 vs 0.976 y 0.9804 respectivamente en los modelos de filtro colaborativo. A diferencia de estos modelos, implicitamente el modelo SVD utiliza las valoraciones generadas tanto por usuarios como peliculas, iterando una n_epochs cantidad de veces hasta minimizar el error en el set de entrenamiento permitiendo asi una mejora de un %7,18 respecto a los filtros colaborativos."
   ]
  },
  {
   "cell_type": "markdown",
   "metadata": {},
   "source": [
    "#### Precision and Recall @ `k`\n",
    "\n",
    "* We now want to compute the precision and recall for 2 values of `k`: 5 and 10. We have provided some code here to help you do that.\n",
    "* First, we define a function that takes in some predictions, a value of `k` and a threshold parameter. This code is adapted from [here](http://surprise.readthedocs.io/en/stable/FAQ.html?highlight=precision#how-to-compute-precision-k-and-recall-k)."
   ]
  },
  {
   "cell_type": "code",
   "execution_count": 34,
   "metadata": {},
   "outputs": [],
   "source": [
    "def precision_recall_at_k(predictions, k=10, threshold=3.5):\n",
    "    '''Return precision and recall at k metrics for each user.'''\n",
    "\n",
    "    # First map the predictions to each user.\n",
    "    user_est_true = dict()\n",
    "    for uid, _, true_r, est, _ in predictions:\n",
    "        current = user_est_true.get(uid, list())\n",
    "        current.append((est, true_r))\n",
    "        user_est_true[uid] = current\n",
    "\n",
    "    precisions = dict()\n",
    "    recalls = dict()\n",
    "    for uid, user_ratings in user_est_true.items():\n",
    "\n",
    "        # Sort user ratings by estimated value\n",
    "        user_ratings.sort(key=lambda x: x[0], reverse=True)\n",
    "\n",
    "        # Number of relevant items\n",
    "        n_rel = sum((true_r >= threshold) for (_, true_r) in user_ratings)\n",
    "\n",
    "        # Number of recommended items in top k\n",
    "        n_rec_k = sum((est >= threshold) for (est, _) in user_ratings[:k])\n",
    "\n",
    "        # Number of relevant and recommended items in top k\n",
    "        n_rel_and_rec_k = sum(((true_r >= threshold) and (est >= threshold))\n",
    "                              for (est, true_r) in user_ratings[:k])\n",
    "\n",
    "        # Precision@K: Proportion of recommended items that are relevant\n",
    "        precisions[uid] = n_rel_and_rec_k / n_rec_k if n_rec_k != 0 else 1\n",
    "\n",
    "        # Recall@K: Proportion of relevant items that are recommended\n",
    "        recalls[uid] = n_rel_and_rec_k / n_rel if n_rel != 0 else 1\n",
    "\n",
    "    return precisions, recalls"
   ]
  },
  {
   "cell_type": "markdown",
   "metadata": {},
   "source": [
    "<h4 style=\"color:red;\">QUESTION 4: PRECISION/RECALL</h1>"
   ]
  },
  {
   "cell_type": "markdown",
   "metadata": {},
   "source": [
    "**Compute the precision and recall, for each of the 4 models, at `k` = 5 and 10. This is 2 x 2 x 4 = 16 numerical values. Do you note anything interesting about these values? Anything differerent from the RMSE values you computed above?**\n",
    "\n",
    "Some code is required for this question."
   ]
  },
  {
   "cell_type": "markdown",
   "metadata": {},
   "source": [
    "#### Resumen de cada Modelo y Calculo de Precision y Recall"
   ]
  },
  {
   "cell_type": "code",
   "execution_count": 35,
   "metadata": {},
   "outputs": [],
   "source": [
    "models = [\n",
    "    NormalPredictor(), # assume normal distribution\n",
    "    KNNBasic(k = 24, sim_options={'user_based': [True]}),\n",
    "    KNNBasic(k = 40, sim_options={'user_based': [False]}),\n",
    "    SVD(n_factors = 130, n_epochs = 30, lr_all = 0.015, reg_all = 0.1),\n",
    "]"
   ]
  },
  {
   "cell_type": "code",
   "execution_count": 36,
   "metadata": {},
   "outputs": [
    {
     "name": "stdout",
     "output_type": "stream",
     "text": [
      "Precision y Recall for k = 5\n",
      "Modelo: <surprise.prediction_algorithms.random_pred.NormalPredictor object at 0x000001A313E0C860>\n",
      "RMSE: 1.5294\n",
      "Precision-5:\n",
      "0.5924113475177318\n",
      "Recall-5:\n",
      "0.33828234927127243\n",
      " \n",
      "Modelo: <surprise.prediction_algorithms.knns.KNNBasic object at 0x000001A313E0CB38>\n",
      "Computing the msd similarity matrix...\n",
      "Done computing similarity matrix.\n",
      "RMSE: 0.9765\n",
      "Precision-5:\n",
      "0.7626063829787232\n",
      "Recall-5:\n",
      "0.4488859767228029\n",
      " \n",
      "Modelo: <surprise.prediction_algorithms.knns.KNNBasic object at 0x000001A313E0C6A0>\n",
      "Computing the msd similarity matrix...\n",
      "Done computing similarity matrix.\n",
      "RMSE: 0.9802\n",
      "Precision-5:\n",
      "0.7701418439716313\n",
      "Recall-5:\n",
      "0.45542695248924264\n",
      " \n",
      "Modelo: <surprise.prediction_algorithms.matrix_factorization.SVD object at 0x000001A313E0C828>\n",
      "RMSE: 0.9124\n",
      "Precision-5:\n",
      "0.8176950354609925\n",
      "Recall-5:\n",
      "0.4443015548888216\n",
      " \n"
     ]
    }
   ],
   "source": [
    "print('Precision y Recall for k = 5')\n",
    "for i in models:\n",
    "    print('Modelo: {}'.format(i))\n",
    "    i.fit(train_set)\n",
    "    predictions = i.test(test_set)\n",
    "    accuracy.rmse(predictions)\n",
    "    \n",
    "    precisions, recalls = precision_recall_at_k(predictions, k=5, threshold=3.5)\n",
    "    \n",
    "    # Precision and recall can then be averaged over all users\n",
    "    print('Precision-5:')\n",
    "    print(sum(prec for prec in precisions.values()) / len(precisions))\n",
    "    print('Recall-5:')\n",
    "    print(sum(rec for rec in recalls.values()) / len(recalls))\n",
    "    print(' ')"
   ]
  },
  {
   "cell_type": "code",
   "execution_count": 37,
   "metadata": {},
   "outputs": [
    {
     "name": "stdout",
     "output_type": "stream",
     "text": [
      "Precision y Recall for k = 10\n",
      "Modelo: <surprise.prediction_algorithms.random_pred.NormalPredictor object at 0x000001A313E0C860>\n",
      "RMSE: 1.5309\n",
      "Precision-5:\n",
      "0.5777060114826071\n",
      "Recall-5:\n",
      "0.42169993193686\n",
      " \n",
      "Modelo: <surprise.prediction_algorithms.knns.KNNBasic object at 0x000001A313E0CB38>\n",
      "Computing the msd similarity matrix...\n",
      "Done computing similarity matrix.\n",
      "RMSE: 0.9765\n",
      "Precision-5:\n",
      "0.7398020094562645\n",
      "Recall-5:\n",
      "0.5869358006756487\n",
      " \n",
      "Modelo: <surprise.prediction_algorithms.knns.KNNBasic object at 0x000001A313E0C6A0>\n",
      "Computing the msd similarity matrix...\n",
      "Done computing similarity matrix.\n",
      "RMSE: 0.9802\n",
      "Precision-5:\n",
      "0.7474658054711246\n",
      "Recall-5:\n",
      "0.5922889757773129\n",
      " \n",
      "Modelo: <surprise.prediction_algorithms.matrix_factorization.SVD object at 0x000001A313E0C828>\n",
      "RMSE: 0.9115\n",
      "Precision-5:\n",
      "0.7956940222897654\n",
      "Recall-5:\n",
      "0.5814258550402731\n",
      " \n"
     ]
    }
   ],
   "source": [
    "print('Precision y Recall for k = 10')\n",
    "for i in models:\n",
    "    print('Modelo: {}'.format(i))\n",
    "    i.fit(train_set)\n",
    "    predictions = i.test(test_set)\n",
    "    rmse = accuracy.rmse(predictions)\n",
    "    \n",
    "    precisions, recalls = precision_recall_at_k(predictions, k=10, threshold=3.5)\n",
    "    \n",
    "    # Precision and recall can then be averaged over all users\n",
    "    print('Precision-5:')\n",
    "    print(sum(prec for prec in precisions.values()) / len(precisions))\n",
    "    print('Recall-5:')\n",
    "    print(sum(rec for rec in recalls.values()) / len(recalls))\n",
    "    print(' ')"
   ]
  },
  {
   "cell_type": "markdown",
   "metadata": {},
   "source": [
    "* Respuestas: Es posible ver como la precision aumenta directamente proporcional de acuerdo a RMSE de cada modelo, donde el SVD es el modelo cuya precision (80% k=5, 79% k=10) es el que mejor predice para este dataset. Respecto al Recall, dado que concentramos el calulo en los k-primeras mejores valoraciones, y como el score es calculado no tendra mayor variacion al respecto y no aporta mayor informacion para estras clasificaciones. Si bien, para el k-10, las precisiones caen dado que se aumenta la muestra, la variacion tiende a estar entre un %2.7 para los filtros colaborativos y %3.8 para SVD (NormalPredictor no sufre mayor variacion, sin embargo, su precision es de 60%)\n",
    "* Los RMSE se comportan de igual manera como vimos en la etapa de Cross-Validation."
   ]
  },
  {
   "cell_type": "markdown",
   "metadata": {},
   "source": [
    "#### Top-`n` Predictions"
   ]
  },
  {
   "cell_type": "markdown",
   "metadata": {},
   "source": [
    "Finally, we can see what some of the actual movie ratings are for particular users, as outputs of our model."
   ]
  },
  {
   "cell_type": "markdown",
   "metadata": {},
   "source": [
    "Again, we define a helpful function."
   ]
  },
  {
   "cell_type": "code",
   "execution_count": 38,
   "metadata": {},
   "outputs": [],
   "source": [
    "def get_top_n(predictions, n=5):\n",
    "    '''Return the top-N recommendation for each user from a set of predictions.\n",
    "\n",
    "    Args:\n",
    "        predictions(list of Prediction objects): The list of predictions, as\n",
    "            returned by the test method of an algorithm.\n",
    "        n(int): The number of recommendation to output for each user. Default\n",
    "            is 10.\n",
    "\n",
    "    Returns:\n",
    "    A dict where keys are user (raw) ids and values are lists of tuples:\n",
    "        [(raw item id, rating estimation), ...] of size n.\n",
    "    '''\n",
    "\n",
    "    # First map the predictions to each user.\n",
    "    top_n = dict()\n",
    "    for uid, iid, true_r, est, _ in predictions:\n",
    "        current = top_n.get(uid, [])\n",
    "        current.append((iid, est))\n",
    "        top_n[uid] = current\n",
    "\n",
    "    # Then sort the predictions for each user and retrieve the k highest ones.\n",
    "    for uid, user_ratings in top_n.items():\n",
    "        user_ratings.sort(key=lambda x: x[1], reverse=True)\n",
    "        top_n[uid] = user_ratings[:n]\n",
    "\n",
    "    return top_n"
   ]
  },
  {
   "cell_type": "markdown",
   "metadata": {},
   "source": [
    "Then, we call this function on each of our models, first training on **all** the data we have available, then predicting on the remaining, missing data. We use `n`=5 here, but you can pick any reasonable value of `n` you would like.\n",
    "\n",
    "This may take some time to compute, so be patient."
   ]
  },
  {
   "cell_type": "markdown",
   "metadata": {},
   "source": [
    "Hint: Use [`**Dataset.build_full_trainset**`](http://surprise.readthedocs.io/en/stable/dataset.html#surprise.dataset.DatasetAutoFolds.build_full_trainset) to get the full trainset from the data. Then call [`**Trainset.build_anti_testset**`](http://surprise.readthedocs.io/en/stable/trainset.html#surprise.Trainset.build_anti_testset) to get the testset out. Finally, `fit` on the trainset, `test` on the testset, then pass that result to our `get_top_n` function."
   ]
  },
  {
   "cell_type": "markdown",
   "metadata": {},
   "source": [
    "<h4 style=\"color:red;\">QUESTION 5: TOP N PREDICTIONS</h1>"
   ]
  },
  {
   "cell_type": "markdown",
   "metadata": {},
   "source": [
    "**Do the top n predictions that you received make sense? What is the rating value (1-5) of these predictions? How could you use these predictions in the real-world if you were trying to build a generic content recommender system for a company?**\n",
    "\n",
    "Some code is required for this question."
   ]
  },
  {
   "cell_type": "code",
   "execution_count": 70,
   "metadata": {},
   "outputs": [
    {
     "name": "stdout",
     "output_type": "stream",
     "text": [
      "Modelo: <surprise.prediction_algorithms.random_pred.NormalPredictor object at 0x000001A313E0C860>\n",
      "Top-5 predicciones\n",
      "    Pelicula 1 Pelicula 2 Pelicula 3 Pelicula 4 Pelicula 5\n",
      "196   (222, 5)   (277, 5)   (181, 5)   (232, 5)  (1049, 5)\n",
      "186   (242, 5)    (51, 5)   (222, 5)    (40, 5)   (144, 5)\n",
      "22     (95, 5)   (304, 5)   (564, 5)   (219, 5)   (496, 5)\n",
      "244   (277, 5)  (1081, 5)     (4, 5)   (322, 5)   (416, 5)\n",
      "166   (302, 5)   (377, 5)   (327, 5)   (201, 5)  (1137, 5)\n",
      "298   (302, 5)    (32, 5)   (332, 5)   (232, 5)   (416, 5)\n",
      "115   (222, 5)  (1184, 5)   (144, 5)   (564, 5)   (332, 5)\n",
      "253   (486, 5)   (564, 5)   (241, 5)   (219, 5)    (26, 5)\n",
      "305    (40, 5)   (432, 5)   (498, 5)   (832, 5)  (1147, 5)\n",
      "6     (377, 5)   (346, 5)    (29, 5)  (1184, 5)   (144, 5)\n",
      " \n",
      "Modelo: <surprise.prediction_algorithms.knns.KNNBasic object at 0x000001A313E0CB38>\n",
      "Computing the msd similarity matrix...\n",
      "Done computing similarity matrix.\n",
      "Top-5 predicciones\n",
      "    Pelicula 1 Pelicula 2 Pelicula 3 Pelicula 4 Pelicula 5\n",
      "196  (1189, 5)  (1500, 5)   (814, 5)  (1536, 5)  (1599, 5)\n",
      "186  (1189, 5)  (1500, 5)   (814, 5)  (1536, 5)  (1599, 5)\n",
      "22   (1189, 5)  (1500, 5)   (814, 5)  (1536, 5)  (1293, 5)\n",
      "244  (1189, 5)  (1500, 5)   (814, 5)  (1536, 5)  (1599, 5)\n",
      "166  (1500, 5)   (814, 5)  (1536, 5)  (1293, 5)  (1599, 5)\n",
      "298  (1189, 5)  (1500, 5)   (814, 5)  (1536, 5)  (1293, 5)\n",
      "115  (1189, 5)  (1500, 5)   (814, 5)  (1536, 5)  (1293, 5)\n",
      "253  (1189, 5)   (814, 5)  (1536, 5)  (1293, 5)  (1599, 5)\n",
      "305  (1189, 5)  (1500, 5)   (814, 5)  (1536, 5)  (1293, 5)\n",
      "6    (1500, 5)   (814, 5)  (1536, 5)  (1293, 5)  (1653, 5)\n",
      " \n",
      "Modelo: <surprise.prediction_algorithms.knns.KNNBasic object at 0x000001A313E0C6A0>\n",
      "Computing the msd similarity matrix...\n",
      "Done computing similarity matrix.\n",
      "Top-5 predicciones\n",
      "    Pelicula 1 Pelicula 2 Pelicula 3 Pelicula 4 Pelicula 5\n",
      "196  (1189, 5)  (1500, 5)   (814, 5)  (1536, 5)  (1599, 5)\n",
      "186  (1189, 5)  (1500, 5)   (814, 5)  (1536, 5)  (1599, 5)\n",
      "22   (1189, 5)  (1500, 5)   (814, 5)  (1536, 5)  (1293, 5)\n",
      "244  (1189, 5)  (1500, 5)   (814, 5)  (1536, 5)  (1599, 5)\n",
      "166  (1500, 5)   (814, 5)  (1536, 5)  (1293, 5)  (1599, 5)\n",
      "298  (1189, 5)  (1500, 5)   (814, 5)  (1536, 5)  (1293, 5)\n",
      "115  (1189, 5)  (1500, 5)   (814, 5)  (1536, 5)  (1293, 5)\n",
      "253  (1189, 5)   (814, 5)  (1536, 5)  (1293, 5)  (1599, 5)\n",
      "305  (1189, 5)  (1500, 5)   (814, 5)  (1536, 5)  (1293, 5)\n",
      "6    (1500, 5)   (814, 5)  (1536, 5)  (1293, 5)  (1653, 5)\n",
      " \n",
      "Modelo: <surprise.prediction_algorithms.matrix_factorization.SVD object at 0x000001A313E0C828>\n",
      "Top-5 predicciones\n",
      "                    Pelicula 1                 Pelicula 2  \\\n",
      "196  (1449, 4.665303095525913)    (64, 4.551346699175446)   \n",
      "186  (1449, 4.664715665428606)    (318, 4.56272411518144)   \n",
      "22    (408, 4.829251426949084)  (1449, 4.742981336295638)   \n",
      "244  (1449, 4.714455799158148)  (408, 4.6363602090602525)   \n",
      "166   (174, 4.568440130240074)    (22, 4.556731453113888)   \n",
      "298  (1449, 4.817515440126027)     (64, 4.73451463791982)   \n",
      "115                  (1449, 5)   (169, 4.926535109518157)   \n",
      "253  (1449, 4.732745980637136)   (174, 4.703692181867608)   \n",
      "305  (1449, 4.313255616994366)    (513, 4.14894161036572)   \n",
      "6    (1449, 4.547171992225181)   (603, 4.344188178907191)   \n",
      "\n",
      "                    Pelicula 3                 Pelicula 4  \\\n",
      "196   (318, 4.543625386735289)  (1367, 4.442094604616345)   \n",
      "186   (496, 4.386830573676639)    (64, 4.330611028240555)   \n",
      "22     (64, 4.634538398841648)   (178, 4.625278966277898)   \n",
      "244   (134, 4.635811508741458)   (127, 4.576420886691263)   \n",
      "166    (265, 4.47042073306769)    (64, 4.468529145796241)   \n",
      "298   (313, 4.524878947899499)  (1467, 4.524409789172051)   \n",
      "115   (179, 4.918976690574091)   (641, 4.862572053074878)   \n",
      "253   (178, 4.642913614614589)    (313, 4.57224153353232)   \n",
      "305  (1467, 4.138696926802651)  (1367, 4.133666709180469)   \n",
      "6     (657, 4.303665249660501)   (641, 4.227563673048346)   \n",
      "\n",
      "                    Pelicula 5  \n",
      "196   (114, 4.415671285783072)  \n",
      "186  (1536, 4.308680582587037)  \n",
      "22    (169, 4.618939924056681)  \n",
      "244   (137, 4.553861230784449)  \n",
      "166  (1293, 4.460397351450672)  \n",
      "298   (480, 4.523149147724015)  \n",
      "115   (512, 4.858744933946205)  \n",
      "253   (172, 4.564074523317257)  \n",
      "305   (114, 4.117031280215307)  \n",
      "6     (647, 4.168085461218967)  \n",
      " \n"
     ]
    }
   ],
   "source": [
    "#Entrenamiento de todos los modelos y sus top-n predicciones\n",
    "trainset = data.build_full_trainset()\n",
    "testset = trainset.build_anti_testset()\n",
    "\n",
    "for i in models:\n",
    "    print('Modelo: {}'.format(i))\n",
    "    \n",
    "    i.fit(trainset)\n",
    "    predictions = i.test(testset)\n",
    "    top_n = get_top_n(predictions, n=5)\n",
    "    # Items recomendados para cada usuario\n",
    "    print('Top-5 predicciones')\n",
    "    top_n = pd.DataFrame(top_n)\n",
    "    top_n = top_n.transpose()\n",
    "    top_n.columns = ['Pelicula 1', 'Pelicula 2', 'Pelicula 3', 'Pelicula 4',  'Pelicula 5' ]\n",
    "    print(top_n.head(10))\n",
    "    print(' ')\n",
    "    \n"
   ]
  },
  {
   "cell_type": "markdown",
   "metadata": {},
   "source": [
    "##### Matriz de similaridad entre usuarios"
   ]
  },
  {
   "cell_type": "code",
   "execution_count": 110,
   "metadata": {},
   "outputs": [],
   "source": [
    "import sklearn.metrics\n",
    "from sklearn.model_selection import train_test_split"
   ]
  },
  {
   "cell_type": "code",
   "execution_count": 98,
   "metadata": {},
   "outputs": [
    {
     "data": {
      "text/plain": [
       "943"
      ]
     },
     "execution_count": 98,
     "metadata": {},
     "output_type": "execute_result"
    }
   ],
   "source": [
    "n_users = movies.user.unique().shape[0]\n",
    "n_users"
   ]
  },
  {
   "cell_type": "code",
   "execution_count": 99,
   "metadata": {},
   "outputs": [
    {
     "data": {
      "text/plain": [
       "1682"
      ]
     },
     "execution_count": 99,
     "metadata": {},
     "output_type": "execute_result"
    }
   ],
   "source": [
    "n_items = movies.item.unique().shape[0]\n",
    "n_items"
   ]
  },
  {
   "cell_type": "code",
   "execution_count": 108,
   "metadata": {},
   "outputs": [
    {
     "data": {
      "text/plain": [
       "array([[5., 3., 4., ..., 0., 0., 0.],\n",
       "       [4., 0., 0., ..., 0., 0., 0.],\n",
       "       [0., 0., 0., ..., 0., 0., 0.],\n",
       "       ...,\n",
       "       [5., 0., 0., ..., 0., 0., 0.],\n",
       "       [0., 0., 0., ..., 0., 0., 0.],\n",
       "       [0., 5., 0., ..., 0., 0., 0.]])"
      ]
     },
     "execution_count": 108,
     "metadata": {},
     "output_type": "execute_result"
    }
   ],
   "source": [
    "#Creacion de matriz usuario - items buscando en df si tiene valoracion.\n",
    "ratings = np.zeros((n_users, n_items))\n",
    "for row in movies.itertuples():\n",
    "    ratings[row[1]-1, row[2]-1] = row[3]\n",
    "ratings"
   ]
  },
  {
   "cell_type": "code",
   "execution_count": 113,
   "metadata": {},
   "outputs": [
    {
     "name": "stdout",
     "output_type": "stream",
     "text": [
      "(754, 1682)\n",
      "(189, 1682)\n"
     ]
    }
   ],
   "source": [
    "rating_train, rating_test = train_test_split(ratings, test_size=0.2, random_state=42)\n",
    "print(rating_train.shape)\n",
    "print(rating_test.shape)"
   ]
  },
  {
   "cell_type": "code",
   "execution_count": 151,
   "metadata": {},
   "outputs": [
    {
     "data": {
      "text/plain": [
       "195    1.000000\n",
       "94     0.428364\n",
       "179    0.399669\n",
       "501    0.391761\n",
       "635    0.364574\n",
       "278    0.359926\n",
       "206    0.359455\n",
       "5      0.345600\n",
       "16     0.344436\n",
       "473    0.340263\n",
       "Name: 195, dtype: float64"
      ]
     },
     "execution_count": 151,
     "metadata": {},
     "output_type": "execute_result"
    }
   ],
   "source": [
    "# Matriz de similaridad entre usuarios\n",
    "sim_matrix = 1 - sklearn.metrics.pairwise.cosine_distances(rating_train)\n",
    "sim_matrix = pd.DataFrame(sim_matrix)\n",
    "#Similaridad de un usuario especifico (id 196-1)\n",
    "sim_matrix.iloc[195,:].sort_values(ascending = False).head(10)"
   ]
  },
  {
   "cell_type": "code",
   "execution_count": 199,
   "metadata": {},
   "outputs": [],
   "source": [
    "#Peliculas mejor valoradas por usuario 94, similar al usuario 196\n",
    "user_94 = movies[movies.user==94]\n",
    "movies_user_94 = user_94.sort_values(by=['rating'],ascending=False)"
   ]
  },
  {
   "cell_type": "code",
   "execution_count": 200,
   "metadata": {},
   "outputs": [
    {
     "data": {
      "text/html": [
       "<div>\n",
       "<style scoped>\n",
       "    .dataframe tbody tr th:only-of-type {\n",
       "        vertical-align: middle;\n",
       "    }\n",
       "\n",
       "    .dataframe tbody tr th {\n",
       "        vertical-align: top;\n",
       "    }\n",
       "\n",
       "    .dataframe thead th {\n",
       "        text-align: right;\n",
       "    }\n",
       "</style>\n",
       "<table border=\"1\" class=\"dataframe\">\n",
       "  <thead>\n",
       "    <tr style=\"text-align: right;\">\n",
       "      <th></th>\n",
       "      <th>user</th>\n",
       "      <th>item</th>\n",
       "      <th>rating</th>\n",
       "      <th>timestamp</th>\n",
       "    </tr>\n",
       "  </thead>\n",
       "  <tbody>\n",
       "    <tr>\n",
       "      <th>73555</th>\n",
       "      <td>94</td>\n",
       "      <td>357</td>\n",
       "      <td>5</td>\n",
       "      <td>891720921</td>\n",
       "    </tr>\n",
       "    <tr>\n",
       "      <th>87556</th>\n",
       "      <td>94</td>\n",
       "      <td>631</td>\n",
       "      <td>5</td>\n",
       "      <td>891720950</td>\n",
       "    </tr>\n",
       "    <tr>\n",
       "      <th>15775</th>\n",
       "      <td>94</td>\n",
       "      <td>448</td>\n",
       "      <td>5</td>\n",
       "      <td>891722939</td>\n",
       "    </tr>\n",
       "    <tr>\n",
       "      <th>33599</th>\n",
       "      <td>94</td>\n",
       "      <td>549</td>\n",
       "      <td>5</td>\n",
       "      <td>891721528</td>\n",
       "    </tr>\n",
       "    <tr>\n",
       "      <th>86787</th>\n",
       "      <td>94</td>\n",
       "      <td>127</td>\n",
       "      <td>5</td>\n",
       "      <td>885870175</td>\n",
       "    </tr>\n",
       "  </tbody>\n",
       "</table>\n",
       "</div>"
      ],
      "text/plain": [
       "       user  item  rating  timestamp\n",
       "73555    94   357       5  891720921\n",
       "87556    94   631       5  891720950\n",
       "15775    94   448       5  891722939\n",
       "33599    94   549       5  891721528\n",
       "86787    94   127       5  885870175"
      ]
     },
     "execution_count": 200,
     "metadata": {},
     "output_type": "execute_result"
    }
   ],
   "source": [
    "movies_user_94.head()"
   ]
  },
  {
   "cell_type": "code",
   "execution_count": 203,
   "metadata": {},
   "outputs": [
    {
     "data": {
      "text/html": [
       "<div>\n",
       "<style scoped>\n",
       "    .dataframe tbody tr th:only-of-type {\n",
       "        vertical-align: middle;\n",
       "    }\n",
       "\n",
       "    .dataframe tbody tr th {\n",
       "        vertical-align: top;\n",
       "    }\n",
       "\n",
       "    .dataframe thead th {\n",
       "        text-align: right;\n",
       "    }\n",
       "</style>\n",
       "<table border=\"1\" class=\"dataframe\">\n",
       "  <thead>\n",
       "    <tr style=\"text-align: right;\">\n",
       "      <th></th>\n",
       "      <th>user</th>\n",
       "      <th>item</th>\n",
       "      <th>rating</th>\n",
       "      <th>timestamp</th>\n",
       "      <th>title</th>\n",
       "    </tr>\n",
       "  </thead>\n",
       "  <tbody>\n",
       "    <tr>\n",
       "      <th>0</th>\n",
       "      <td>94</td>\n",
       "      <td>357</td>\n",
       "      <td>5</td>\n",
       "      <td>891720921</td>\n",
       "      <td>Four Weddings and a Funeral (1994)</td>\n",
       "    </tr>\n",
       "    <tr>\n",
       "      <th>1</th>\n",
       "      <td>94</td>\n",
       "      <td>631</td>\n",
       "      <td>5</td>\n",
       "      <td>891720950</td>\n",
       "      <td>All Dogs Go to Heaven 2 (1996)</td>\n",
       "    </tr>\n",
       "    <tr>\n",
       "      <th>2</th>\n",
       "      <td>94</td>\n",
       "      <td>448</td>\n",
       "      <td>5</td>\n",
       "      <td>891722939</td>\n",
       "      <td>Fearless (1993)</td>\n",
       "    </tr>\n",
       "    <tr>\n",
       "      <th>3</th>\n",
       "      <td>94</td>\n",
       "      <td>549</td>\n",
       "      <td>5</td>\n",
       "      <td>891721528</td>\n",
       "      <td>Thirty-Two Short Films About Glenn Gould (1993)</td>\n",
       "    </tr>\n",
       "    <tr>\n",
       "      <th>4</th>\n",
       "      <td>94</td>\n",
       "      <td>127</td>\n",
       "      <td>5</td>\n",
       "      <td>885870175</td>\n",
       "      <td>NaN</td>\n",
       "    </tr>\n",
       "  </tbody>\n",
       "</table>\n",
       "</div>"
      ],
      "text/plain": [
       "   user  item  rating  timestamp  \\\n",
       "0    94   357       5  891720921   \n",
       "1    94   631       5  891720950   \n",
       "2    94   448       5  891722939   \n",
       "3    94   549       5  891721528   \n",
       "4    94   127       5  885870175   \n",
       "\n",
       "                                             title  \n",
       "0               Four Weddings and a Funeral (1994)  \n",
       "1                   All Dogs Go to Heaven 2 (1996)  \n",
       "2                                  Fearless (1993)  \n",
       "3  Thirty-Two Short Films About Glenn Gould (1993)  \n",
       "4                                              NaN  "
      ]
     },
     "execution_count": 203,
     "metadata": {},
     "output_type": "execute_result"
    }
   ],
   "source": [
    "movies_user_94 = movies_user_94.merge(movies_names[['movieId','title']], left_on='item', right_on='movieId', how='left').drop('movieId', axis=1)\n",
    "movies_user_94.head()"
   ]
  },
  {
   "cell_type": "code",
   "execution_count": 209,
   "metadata": {},
   "outputs": [
    {
     "name": "stdout",
     "output_type": "stream",
     "text": [
      "    user  item  rating  timestamp                             title\n",
      "78    94   318       5  891721191  Shawshank Redemption, The (1994)\n",
      "    user  item  rating  timestamp                 title\n",
      "72    94    64       5  885870362  Two if by Sea (1996)\n"
     ]
    }
   ],
   "source": [
    "#El usuario 94 valoro con nota 5, dos de las 5 peliculas recomendadas al usuario 196\n",
    "#print(movies_user_94[movies_user_94.item==1449])\n",
    "print(movies_user_94[movies_user_94.item==318])\n",
    "print(movies_user_94[movies_user_94.item==64])\n",
    "#print(movies_user_94[movies_user_94.item==1642])\n",
    "#print(movies_user_94[movies_user_94.item==1524])"
   ]
  },
  {
   "cell_type": "markdown",
   "metadata": {},
   "source": [
    "##### Cargar nombre de peliculas"
   ]
  },
  {
   "cell_type": "code",
   "execution_count": 201,
   "metadata": {},
   "outputs": [
    {
     "data": {
      "text/html": [
       "<div>\n",
       "<style scoped>\n",
       "    .dataframe tbody tr th:only-of-type {\n",
       "        vertical-align: middle;\n",
       "    }\n",
       "\n",
       "    .dataframe tbody tr th {\n",
       "        vertical-align: top;\n",
       "    }\n",
       "\n",
       "    .dataframe thead th {\n",
       "        text-align: right;\n",
       "    }\n",
       "</style>\n",
       "<table border=\"1\" class=\"dataframe\">\n",
       "  <thead>\n",
       "    <tr style=\"text-align: right;\">\n",
       "      <th></th>\n",
       "      <th>movieId</th>\n",
       "      <th>title</th>\n",
       "      <th>genres</th>\n",
       "    </tr>\n",
       "  </thead>\n",
       "  <tbody>\n",
       "    <tr>\n",
       "      <th>0</th>\n",
       "      <td>1</td>\n",
       "      <td>Toy Story (1995)</td>\n",
       "      <td>Adventure|Animation|Children|Comedy|Fantasy</td>\n",
       "    </tr>\n",
       "    <tr>\n",
       "      <th>1</th>\n",
       "      <td>2</td>\n",
       "      <td>Jumanji (1995)</td>\n",
       "      <td>Adventure|Children|Fantasy</td>\n",
       "    </tr>\n",
       "    <tr>\n",
       "      <th>2</th>\n",
       "      <td>3</td>\n",
       "      <td>Grumpier Old Men (1995)</td>\n",
       "      <td>Comedy|Romance</td>\n",
       "    </tr>\n",
       "    <tr>\n",
       "      <th>3</th>\n",
       "      <td>4</td>\n",
       "      <td>Waiting to Exhale (1995)</td>\n",
       "      <td>Comedy|Drama|Romance</td>\n",
       "    </tr>\n",
       "    <tr>\n",
       "      <th>4</th>\n",
       "      <td>5</td>\n",
       "      <td>Father of the Bride Part II (1995)</td>\n",
       "      <td>Comedy</td>\n",
       "    </tr>\n",
       "  </tbody>\n",
       "</table>\n",
       "</div>"
      ],
      "text/plain": [
       "   movieId                               title  \\\n",
       "0        1                    Toy Story (1995)   \n",
       "1        2                      Jumanji (1995)   \n",
       "2        3             Grumpier Old Men (1995)   \n",
       "3        4            Waiting to Exhale (1995)   \n",
       "4        5  Father of the Bride Part II (1995)   \n",
       "\n",
       "                                        genres  \n",
       "0  Adventure|Animation|Children|Comedy|Fantasy  \n",
       "1                   Adventure|Children|Fantasy  \n",
       "2                               Comedy|Romance  \n",
       "3                         Comedy|Drama|Romance  \n",
       "4                                       Comedy  "
      ]
     },
     "execution_count": 201,
     "metadata": {},
     "output_type": "execute_result"
    }
   ],
   "source": [
    "movies_names = pd.read_csv('../Caso estudio 4.1 Sistema de recomendacion/Ayuda/ml-latest-small/movies.csv')\n",
    "movies_names.head()"
   ]
  },
  {
   "cell_type": "markdown",
   "metadata": {},
   "source": [
    "* Las top 5 predicciones por cada usuario, se encuentran con ratings >= 4. Si bien, no soy un experto en peliculas, se ve que las recomendaciones para los usuarios tienen sentido, esto comprobado solo con 1 ejemplo al tomar el primer usuario ID: 196 y buscar en la matriz de similaridad bajo distancia coseno al más parecido ID: 94, de las cuales dos de las peliculas recomendadas por el modelo, fueron vistas por el usario 94 y valoradas con nota 5 por lo que afirma que el modelo a priori esta prediciendo bastante bien (podria seguir con el analisis en detalle pero eso tomaria algo de tiempo). Utilizando este metodo, pienso aplicarlo dentro de mi organizacion utilizando el comportamiento de los usuarios dentro del sitio web de compra, con alguna aplicacion que vaya generando un dataset de acuerdo a los clicks, movimientos de mouse, etc. y con ello realizar recomendaciones de productos de acuerdo a la data historica y las compras realizadas previamente por los clientes. Bajo mi punto de vista, el modelo que se comporta de mejor manera es SVD dado que los otros modelos dada su construccion entregan predicciones con nota 5."
   ]
  },
  {
   "cell_type": "markdown",
   "metadata": {},
   "source": [
    "<hr>"
   ]
  },
  {
   "cell_type": "markdown",
   "metadata": {},
   "source": [
    "Great job! Now, make sure you check out the **Conclusion** section of the [instruction manual](https://courses.edx.org/asset-v1:MITxPRO+DSx+2T2018+type@asset+block@4.1_instruction_manual.html) to wrap up this case study properly."
   ]
  }
 ],
 "metadata": {
  "kernelspec": {
   "display_name": "Python 3",
   "language": "python",
   "name": "python3"
  },
  "language_info": {
   "codemirror_mode": {
    "name": "ipython",
    "version": 3
   },
   "file_extension": ".py",
   "mimetype": "text/x-python",
   "name": "python",
   "nbconvert_exporter": "python",
   "pygments_lexer": "ipython3",
   "version": "3.7.3"
  }
 },
 "nbformat": 4,
 "nbformat_minor": 4
}
